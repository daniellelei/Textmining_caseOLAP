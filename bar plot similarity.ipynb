{
 "cells": [
  {
   "cell_type": "code",
   "execution_count": 13,
   "metadata": {},
   "outputs": [],
   "source": [
    "import pandas as pd\n",
    "import seaborn as sns\n",
    "import matplotlib.pyplot as plt\n",
    "import numpy as np\n",
    "import matplotlib.patches as mpatches \n",
    "import matplotlib"
   ]
  },
  {
   "cell_type": "code",
   "execution_count": 14,
   "metadata": {},
   "outputs": [
    {
     "data": {
      "text/html": [
       "<div>\n",
       "<style scoped>\n",
       "    .dataframe tbody tr th:only-of-type {\n",
       "        vertical-align: middle;\n",
       "    }\n",
       "\n",
       "    .dataframe tbody tr th {\n",
       "        vertical-align: top;\n",
       "    }\n",
       "\n",
       "    .dataframe thead th {\n",
       "        text-align: right;\n",
       "    }\n",
       "</style>\n",
       "<table border=\"1\" class=\"dataframe\">\n",
       "  <thead>\n",
       "    <tr style=\"text-align: right;\">\n",
       "      <th></th>\n",
       "      <th>similarity</th>\n",
       "      <th>difference</th>\n",
       "    </tr>\n",
       "  </thead>\n",
       "  <tbody>\n",
       "    <tr>\n",
       "      <th>0</th>\n",
       "      <td>100.000000</td>\n",
       "      <td>0.000000</td>\n",
       "    </tr>\n",
       "    <tr>\n",
       "      <th>1</th>\n",
       "      <td>5.841924</td>\n",
       "      <td>94.158076</td>\n",
       "    </tr>\n",
       "    <tr>\n",
       "      <th>2</th>\n",
       "      <td>9.000000</td>\n",
       "      <td>91.000000</td>\n",
       "    </tr>\n",
       "    <tr>\n",
       "      <th>3</th>\n",
       "      <td>10.000000</td>\n",
       "      <td>90.000000</td>\n",
       "    </tr>\n",
       "    <tr>\n",
       "      <th>4</th>\n",
       "      <td>9.500000</td>\n",
       "      <td>90.500000</td>\n",
       "    </tr>\n",
       "    <tr>\n",
       "      <th>5</th>\n",
       "      <td>8.000000</td>\n",
       "      <td>92.000000</td>\n",
       "    </tr>\n",
       "    <tr>\n",
       "      <th>6</th>\n",
       "      <td>9.500000</td>\n",
       "      <td>90.500000</td>\n",
       "    </tr>\n",
       "    <tr>\n",
       "      <th>7</th>\n",
       "      <td>10.500000</td>\n",
       "      <td>89.500000</td>\n",
       "    </tr>\n",
       "    <tr>\n",
       "      <th>8</th>\n",
       "      <td>10.000000</td>\n",
       "      <td>90.000000</td>\n",
       "    </tr>\n",
       "    <tr>\n",
       "      <th>9</th>\n",
       "      <td>10.000000</td>\n",
       "      <td>90.000000</td>\n",
       "    </tr>\n",
       "  </tbody>\n",
       "</table>\n",
       "</div>"
      ],
      "text/plain": [
       "   similarity  difference\n",
       "0  100.000000    0.000000\n",
       "1    5.841924   94.158076\n",
       "2    9.000000   91.000000\n",
       "3   10.000000   90.000000\n",
       "4    9.500000   90.500000\n",
       "5    8.000000   92.000000\n",
       "6    9.500000   90.500000\n",
       "7   10.500000   89.500000\n",
       "8   10.000000   90.000000\n",
       "9   10.000000   90.000000"
      ]
     },
     "metadata": {},
     "output_type": "display_data"
    },
    {
     "data": {
      "image/png": "[encoded data removed]",
      "text/plain": [
       "<Figure size 648x432 with 1 Axes>"
      ]
     },
     "metadata": {
      "needs_background": "light"
     },
     "output_type": "display_data"
    }
   ],
   "source": [
    "#similarity = [ 5000, 6274, 1059, 1082, 1166, 1054, 1130, 1130, 1110, 1099]\n",
    "#difference = [ 0, 39308, 3941, 3918, 3834, 3946, 3870, 3870, 3890, 3901]\n",
    "similarity = [200, 119, 18, 20, 19, 16, 19, 21, 20, 20]\n",
    "difference = [0, 1918, 182,180, 181, 184, 181, 179, 180, 180]\n",
    "#from raw value to percentage\n",
    "totals = [i+j for i,j in zip(df['similarity'], df['difference'])]\n",
    "greyBars = [i/j * 100 for i, j in zip (df['difference'], totals)]\n",
    "blueBars = [i/j * 100 for i, j in zip(df['similarity'], totals)]\n",
    "raw_data = {'similarity':blueBars, 'difference':greyBars}\n",
    "ax = pd.DataFrame(raw_data)\n",
    "names = ( 'Human', 'full set', 'IHD', 'CM', 'ARR','VD', 'CCD', 'CHD','VOO','OTH')\n",
    "x = np.arange(10) \n",
    "width = 0.85\n",
    "colors = ['lightskyblue','0.8']\n",
    "ax_1 = ax.plot.bar(figsize=(9,6),stacked=True, width = width, rot=0, color=colors )\n",
    "display(ax)\n",
    "plt.legend(loc='upper center', bbox_to_anchor=(0.1, 1.0))\n",
    "plt.xlabel('Comparison')\n",
    "plt.ylabel('Percentage')\n",
    "plt.xticks(ticks=range(10), labels=names, rotation=0)\n",
    "ax_1.set_title(\"Protein Similarity Between Human-Heart and Mouse-Heart\")\n",
    "#ADD Annotation \n",
    "for rec in ax_1.patches:\n",
    "    height = rec.get_height()\n",
    "    ax_1.text(rec.get_x() + rec.get_width() / 2, \n",
    "              rec.get_y() + height / 2,\n",
    "              \"{:.0f}%\".format(height),\n",
    "              ha='center', \n",
    "              va='bottom', size='large')\n",
    "\n",
    "plt.show()"
   ]
  },
  {
   "cell_type": "code",
   "execution_count": 12,
   "metadata": {},
   "outputs": [],
   "source": [
    "ax_1.figure.savefig('desktop/bar plot human-heart vs mouse-heart.pdf')"
   ]
  },
  {
   "cell_type": "code",
   "execution_count": null,
   "metadata": {},
   "outputs": [],
   "source": []
  },
  {
   "cell_type": "code",
   "execution_count": null,
   "metadata": {},
   "outputs": [],
   "source": []
  }
 ],
 "metadata": {
  "kernelspec": {
   "display_name": "Python 3",
   "language": "python",
   "name": "python3"
  },
  "language_info": {
   "codemirror_mode": {
    "name": "ipython",
    "version": 3
   },
   "file_extension": ".py",
   "mimetype": "text/x-python",
   "name": "python",
   "nbconvert_exporter": "python",
   "pygments_lexer": "ipython3",
   "version": "3.8.5"
  }
 },
 "nbformat": 4,
 "nbformat_minor": 4
}
